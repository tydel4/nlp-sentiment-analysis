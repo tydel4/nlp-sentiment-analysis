{
 "cells": [
  {
   "cell_type": "markdown",
   "metadata": {},
   "source": [
    "# Sentiment Analysis on Twitter Data\n",
    "\n",
    "This notebook demonstrates the workflow for performing sentiment analysis on Twitter data. We will cover the following steps:\n",
    "\n",
    "1. Data Loading\n",
    "2. Data Preprocessing\n",
    "3. Vectorization\n",
    "4. Model Training\n",
    "5. Evaluation\n"
   ]
  },
  {
   "cell_type": "code",
   "execution_count": 34,
   "metadata": {},
   "outputs": [
    {
     "data": {
      "text/html": [
       "<div>\n",
       "<style scoped>\n",
       "    .dataframe tbody tr th:only-of-type {\n",
       "        vertical-align: middle;\n",
       "    }\n",
       "\n",
       "    .dataframe tbody tr th {\n",
       "        vertical-align: top;\n",
       "    }\n",
       "\n",
       "    .dataframe thead th {\n",
       "        text-align: right;\n",
       "    }\n",
       "</style>\n",
       "<table border=\"1\" class=\"dataframe\">\n",
       "  <thead>\n",
       "    <tr style=\"text-align: right;\">\n",
       "      <th></th>\n",
       "      <th>tweet_text</th>\n",
       "      <th>sentiment</th>\n",
       "    </tr>\n",
       "  </thead>\n",
       "  <tbody>\n",
       "    <tr>\n",
       "      <th>0</th>\n",
       "      <td>I love this product! It's amazing.</td>\n",
       "      <td>positive</td>\n",
       "    </tr>\n",
       "    <tr>\n",
       "      <th>1</th>\n",
       "      <td>This is the worst experience I've ever had.</td>\n",
       "      <td>negative</td>\n",
       "    </tr>\n",
       "    <tr>\n",
       "      <th>2</th>\n",
       "      <td>Just okay, nothing special.</td>\n",
       "      <td>neutral</td>\n",
       "    </tr>\n",
       "    <tr>\n",
       "      <th>3</th>\n",
       "      <td>Absolutely fantastic service!</td>\n",
       "      <td>positive</td>\n",
       "    </tr>\n",
       "    <tr>\n",
       "      <th>4</th>\n",
       "      <td>Terrible customer support.</td>\n",
       "      <td>negative</td>\n",
       "    </tr>\n",
       "  </tbody>\n",
       "</table>\n",
       "</div>"
      ],
      "text/plain": [
       "                                    tweet_text sentiment\n",
       "0           I love this product! It's amazing.  positive\n",
       "1  This is the worst experience I've ever had.  negative\n",
       "2                  Just okay, nothing special.   neutral\n",
       "3                Absolutely fantastic service!  positive\n",
       "4                   Terrible customer support.  negative"
      ]
     },
     "execution_count": 34,
     "metadata": {},
     "output_type": "execute_result"
    }
   ],
   "source": [
    "# Step 1: Data Loading\n",
    "\n",
    "import pandas as pd\n",
    "\n",
    "data_path = '../data/raw/tweets.csv'\n",
    "tweets_df = pd.read_csv(data_path)\n",
    "tweets_df.head()"
   ]
  },
  {
   "cell_type": "code",
   "execution_count": 35,
   "metadata": {},
   "outputs": [
    {
     "data": {
      "text/html": [
       "<div>\n",
       "<style scoped>\n",
       "    .dataframe tbody tr th:only-of-type {\n",
       "        vertical-align: middle;\n",
       "    }\n",
       "\n",
       "    .dataframe tbody tr th {\n",
       "        vertical-align: top;\n",
       "    }\n",
       "\n",
       "    .dataframe thead th {\n",
       "        text-align: right;\n",
       "    }\n",
       "</style>\n",
       "<table border=\"1\" class=\"dataframe\">\n",
       "  <thead>\n",
       "    <tr style=\"text-align: right;\">\n",
       "      <th></th>\n",
       "      <th>tweet_text</th>\n",
       "      <th>sentiment</th>\n",
       "      <th>cleaned_text</th>\n",
       "    </tr>\n",
       "  </thead>\n",
       "  <tbody>\n",
       "    <tr>\n",
       "      <th>0</th>\n",
       "      <td>I love this product! It's amazing.</td>\n",
       "      <td>positive</td>\n",
       "      <td>love product amaz</td>\n",
       "    </tr>\n",
       "    <tr>\n",
       "      <th>1</th>\n",
       "      <td>This is the worst experience I've ever had.</td>\n",
       "      <td>negative</td>\n",
       "      <td>worst experi ive ever</td>\n",
       "    </tr>\n",
       "    <tr>\n",
       "      <th>2</th>\n",
       "      <td>Just okay, nothing special.</td>\n",
       "      <td>neutral</td>\n",
       "      <td>okay noth special</td>\n",
       "    </tr>\n",
       "    <tr>\n",
       "      <th>3</th>\n",
       "      <td>Absolutely fantastic service!</td>\n",
       "      <td>positive</td>\n",
       "      <td>absolut fantast servic</td>\n",
       "    </tr>\n",
       "    <tr>\n",
       "      <th>4</th>\n",
       "      <td>Terrible customer support.</td>\n",
       "      <td>negative</td>\n",
       "      <td>terribl custom support</td>\n",
       "    </tr>\n",
       "  </tbody>\n",
       "</table>\n",
       "</div>"
      ],
      "text/plain": [
       "                                    tweet_text sentiment  \\\n",
       "0           I love this product! It's amazing.  positive   \n",
       "1  This is the worst experience I've ever had.  negative   \n",
       "2                  Just okay, nothing special.   neutral   \n",
       "3                Absolutely fantastic service!  positive   \n",
       "4                   Terrible customer support.  negative   \n",
       "\n",
       "             cleaned_text  \n",
       "0       love product amaz  \n",
       "1   worst experi ive ever  \n",
       "2       okay noth special  \n",
       "3  absolut fantast servic  \n",
       "4  terribl custom support  "
      ]
     },
     "execution_count": 35,
     "metadata": {},
     "output_type": "execute_result"
    }
   ],
   "source": [
    "# Step 2: Data Preprocessing\n",
    "\n",
    "import sys\n",
    "import os\n",
    "sys.path.append(os.path.abspath('../src'))\n",
    "\n",
    "from data_preprocessing import clean_text, remove_stopwords\n",
    "\n",
    "tweets_df['cleaned_text'] = tweets_df['tweet_text'].apply(clean_text)\n",
    "tweets_df['cleaned_text'] = tweets_df['cleaned_text'].apply(remove_stopwords)\n",
    "tweets_df.head()"
   ]
  },
  {
   "cell_type": "code",
   "execution_count": 36,
   "metadata": {},
   "outputs": [],
   "source": [
    "# Step 3: Vectorization\n",
    "\n",
    "from vectorization import tfidf_vectorize\n",
    "\n",
    "X, vectorizer = tfidf_vectorize(tweets_df['cleaned_text'])\n",
    "y = tweets_df['sentiment']  # Use the correct column name from your CSV"
   ]
  },
  {
   "cell_type": "code",
   "execution_count": 37,
   "metadata": {},
   "outputs": [
    {
     "name": "stdout",
     "output_type": "stream",
     "text": [
      "Validation Accuracy: 0.50\n"
     ]
    }
   ],
   "source": [
    "# Step 4: Model Training\n",
    "\n",
    "from model_training import train_logistic_regression\n",
    "\n",
    "model, accuracy = train_logistic_regression(X, y)\n",
    "print(f'Validation Accuracy: {accuracy:.2f}')"
   ]
  },
  {
   "cell_type": "code",
   "execution_count": 38,
   "metadata": {},
   "outputs": [
    {
     "name": "stdout",
     "output_type": "stream",
     "text": [
      "              precision    recall  f1-score   support\n",
      "\n",
      "    negative       0.80      1.00      0.89         4\n",
      "     neutral       1.00      1.00      1.00         2\n",
      "    positive       1.00      0.75      0.86         4\n",
      "\n",
      "    accuracy                           0.90        10\n",
      "   macro avg       0.93      0.92      0.92        10\n",
      "weighted avg       0.92      0.90      0.90        10\n",
      "\n"
     ]
    }
   ],
   "source": [
    "# Step 5: Evaluation\n",
    "\n",
    "from sklearn.metrics import classification_report\n",
    "\n",
    "y_pred = model.predict(X)\n",
    "print(classification_report(y, y_pred))"
   ]
  }
 ],
 "metadata": {
  "kernelspec": {
   "display_name": "Python 3",
   "language": "python",
   "name": "python3"
  },
  "language_info": {
   "codemirror_mode": {
    "name": "ipython",
    "version": 3
   },
   "file_extension": ".py",
   "mimetype": "text/x-python",
   "name": "python",
   "nbconvert_exporter": "python",
   "pygments_lexer": "ipython3",
   "version": "3.12.9"
  }
 },
 "nbformat": 4,
 "nbformat_minor": 4
}
